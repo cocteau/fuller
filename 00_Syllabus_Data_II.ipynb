{
 "cells": [
  {
   "cell_type": "markdown",
   "metadata": {},
   "source": [
    "Background\n",
    "----------\n",
    "This class is about using data to find stories. **We will focus on the expressiveness of data and models.** Our choice of how to represent phenomena in the world -- through observation and measurement -- and the tools we use to describe relationships between those measurements -- ultimately, methods to judge difference and similarity -- are creative acts that shape our stories in powerful ways. Pulitzer himself articulated a kind of aesthetic around data in \"The College of Journalism,\" an article published in the North American Review in May of 1904. \n",
    "\n",
    "> You want statistics to tell you the truth. You can find truth there if you know how to get at it, and romance, human interest, humor and fascinating revelations as well. The journalist must know how to find all these things -- truth, of course, first. (p. 673)\n",
    "\n",
    "Granted, depending on how the data were collected, the standards of the publication we are writing for, and even the agreed upon norms of the reporters covering a given beat, our choices might be limited. But a change is taking hold and journalists are venturing into new territory, assembling amazing data sets and producing analyses with powerful narrative content. In ways that Pulitzer could never have imagined, data and computation are reshaping journalism. \n",
    "\n",
    "Therefore, in this class, we will go beyond simple surveys and numerical summaries, and examine more elaborate forms of data. Text and  maps\n",
    ", networks -- These are all potential data. Our tools of analysis will be drawn from the fields of statistics and computer science, many of which fall under the (relatively new) title of machine learning. Our approach will rely primarily on geometry -- difference and similarity will be judged based on different notions of \"distance\" between data points. \n",
    "\n",
    "Assignments\n",
    "-----------\n",
    "1. **This term, I would like you to find, read and comment on one story that makes use of or publishes in some way data or computation** -- be that through the analysis of data, the presentation of a data visualization or interactive graphic, or some kind of computer processing. **You will interview the author about their story and the techniques they used. Your comments will be submitted via CourseWorks.**\n",
    "<p>\n",
    "To help you, you should address (where applicable) the following questions\n",
    "<ul>\n",
    "<li>What is the story?  What kind of story is it? Use no more than two sentences.\n",
    "<li>What drew you to this story, and why does it enhance our class discussion?\n",
    "<li>What data are used in the story?  How did the journalist obtain the data?\n",
    "<li>How did the computing or modeling help in telling the story?\n",
    "<li>Did the journalist \"show their work\" and could you recreate their results?\n",
    "<li>What non-data sources did the journalist use, and how do they contribute to the story?\n",
    "<li>What would you do to follow up on this story? Where would you go next?\n",
    "</ul>\n",
    "<p>\n",
    "These write-ups will be due by the end of the term.\n",
    "<p>\n",
    "2. **Each week, we will also have a small data assignment designed to improve your ability to look at and find stories in data.** Our emphasis will be on auditioning more advanced methods of analysis, with the caveat that our techniques will all be extremely intuitive -- requiring some basic geometric reasoning and perhaps a little simulation.\n",
    "<p>\n",
    "3. **You will be grouped into small teams, each team creating a single story over the course of the semester.** The project topic has been suggested by \"subject experts\" who can provide you with a certain degree of guidance about the topic. But, as a group, you will have the people to conduct your own research into the topic in addition to your data work. **You will have a mid-term story pitch**, informed by your research and your data work, and **a final story by the end of the term.** \n",
    "<p>\n",
    "\n",
    "Topics\n",
    "------\n",
    "\n",
    "**Weeks 1 & 2: Introduction to R and the Jupyter Notebook**\n",
    "\n",
    "Our first meeting was a touch poetic, but was designed to make you think about the ways stories are shaped based on the representation of data. It was a little more abstract than, say, reducing the unemployed population in the U.S. to a single statistic. Instead we looked at representations of time series, physical objects and audio as a means of understanding how statistical operations affect story. Homework for this week is an introduction to \"literate\" computing with R and the Jupyter Notebook.\n",
    "\n",
    "**Week 3: A simple geometry lesson**\n",
    "\n",
    "This week, we consider the basic structure of tabular data. The organization into rows and columns is classic, and the starting point of countless statistical analyses. With rows representing entities and columns attributes, we will describe ways to \"see\" the structures in a data set -- identifying clusters and other features, all of which give rise to stories. We will then move from a geometric view of the data table to one of the most fundamental database abstractions, the relational model and the logic of SQL (the Structured Query Language). \n",
    "\n",
    "**Weeks 4 & 5: Structuring unstructured data: Looking at text**\n",
    "\n",
    "While the data table is ripe with narrative potential, not all data come in tabular form. Collections of text and images, for example, encode their information as objects in a picture or sentences in a paragraph. To find stories in these collections, we will appeal to tools being developed in the so-called digital humanities. To what extent can we automatically find the \"grammatical\" elements in images and text. What is this a picture of? What is the subject of this paragraph? \n",
    "\n",
    "**Week 6 & 7: Spatial data**\n",
    "\n",
    "We close with the idea of mapped data. How do we use maps to structure information and produce stories? How do we derive secondary data from maps? We will also consider describing spatial phenomena -- is there a \"hotspot\" on this map?"
   ]
  }
 ],
 "metadata": {
  "kernelspec": {
   "display_name": "R",
   "language": "R",
   "name": "ir"
  },
  "language_info": {
   "codemirror_mode": "r",
   "file_extension": ".r",
   "mimetype": "text/x-r-source",
   "name": "R",
   "pygments_lexer": "r",
   "version": "3.4.2"
  }
 },
 "nbformat": 4,
 "nbformat_minor": 1
}
