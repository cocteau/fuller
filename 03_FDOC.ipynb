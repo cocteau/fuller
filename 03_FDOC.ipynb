{
 "cells": [
  {
   "cell_type": "markdown",
   "metadata": {},
   "source": [
    "Florida Department of Corrections\n",
    "---------------------------------\n",
    "\n",
    "The Florida Department of Corrections has made a number of tables available about inmates who have passed through their prisons. [The main publication page for the Offender Based Information System (OBIS)](http://www.dc.state.fl.us/pub/obis_request.html) lists what each table contains. The data are said to be underneath their [interactive web applications](http://www.dc.state.fl.us/InmateInfo/InmateInfoMenu.asp). Have a look at these descriptions and at the web search portals and comment on what you see.\n",
    "\n",
    "> - **Inmate_release_root**: Basic inmate information on inmates released since 10-1-1997\n",
    "- **Inmate_release_aliases**: Aliases for these released inmates\n",
    "- **Inmate_release_offenses_CPS**: Current prison offenses for these released inmates\n",
    "- **Inmate_release_offenses_prpr**: Prior prison offenses for these released inmates \n",
    "- **Inmate_release_residence**: Release plan address for these released inmates\n",
    "- **Inmate_release_detainers**: Detainers for these released inmates\n",
    "- **Inmate_release_incarhist**: Incarceration history for these released inmates\n",
    "- **Inmate_release_scarsmarks**: Tattoos for these released inmates\n",
    "- **Inmate_active_root**:  Basic inmate information on active inmates\n",
    "- **Inmate_active_aliases**: Aliases for these active inmates\n",
    "- **Inmate_active_offenses_CPS**: Current prison offenses for these active inmates\n",
    "- **Inmate_active_offenses_prpr**: Prior prison offenses for these active inmates \n",
    "- **Inmate_active_detainers**: Detainers for these active inmates\n",
    "- **Inmate_active_incarhist**: Incarceration history for these active inmates\n",
    "- **Inmate_active_scarsmarks**: Tattoos for these active inmates\n",
    "- **Offender_root**: Basic offender information on current community supervision offenders\n",
    "- **Offender_aliases**: Aliases for offenders\n",
    "- **Offender_offenses_CCS**: Current community supervision offenses for offenders\n",
    "- **Offender_residence**: Most recent address (excluding confidential addresses) for offenders\n",
    "\n",
    "You can also do some simple sleuthing using basic UNIX tools. First, I have made the data files available individually as well as bundled for easier downloading. Here is [the folder with the separate files](http://compute-cuj.org/FDOC/) and [FDOC.tar.gz](http://compute-cuj.org/FDOC/FDOC.tar.gz) is the tar'd (yes, a tape archive) and compressed folder. \n",
    "\n",
    "To have a look at these files, we can read in just a few observations and avoid long load times. "
   ]
  },
  {
   "cell_type": "code",
   "execution_count": null,
   "metadata": {},
   "outputs": [],
   "source": [
    "library(dplyr)"
   ]
  },
  {
   "cell_type": "code",
   "execution_count": null,
   "metadata": {},
   "outputs": [],
   "source": [
    "tmp = read.csv(\"http://compute-cuj.org/FDOC/INMATE_ACTIVE_ROOT.csv\",as.is=TRUE,nrows=20)\n",
    "tmp"
   ]
  },
  {
   "cell_type": "markdown",
   "metadata": {},
   "source": [
    "The FDOC commissions studies of their system based on these data. Some studies involve data we don't have access to, but others seem to be quite creative with the data that is here. Take [this report on recidivism](http://www.dc.state.fl.us/pub/recidivismfsu/index.html), for example. \n",
    "\n",
    "Let's read in the main \"root\" file for current inmates."
   ]
  },
  {
   "cell_type": "code",
   "execution_count": null,
   "metadata": {
    "collapsed": true
   },
   "outputs": [],
   "source": [
    "root = read.csv(\"http://compute-cuj.org/FDOC/INMATE_ACTIVE_ROOT.csv\",as.is=TRUE)"
   ]
  },
  {
   "cell_type": "code",
   "execution_count": null,
   "metadata": {},
   "outputs": [],
   "source": [
    "table(root$FACILITY)"
   ]
  },
  {
   "cell_type": "code",
   "execution_count": null,
   "metadata": {
    "collapsed": true
   },
   "outputs": [],
   "source": [
    "table(root$Race,root$Sex)"
   ]
  },
  {
   "cell_type": "markdown",
   "metadata": {},
   "source": [
    "And have a look at a few more of the files..."
   ]
  },
  {
   "cell_type": "code",
   "execution_count": null,
   "metadata": {},
   "outputs": [],
   "source": [
    "tmp = read.csv(\"http://compute-cuj.org/FDOC/INMATE_ACTIVE_OFFENSES_prpr.csv\",as.is=TRUE,nrows=20)\n",
    "head(tmp)"
   ]
  },
  {
   "cell_type": "code",
   "execution_count": null,
   "metadata": {},
   "outputs": [],
   "source": [
    "tmp = read.csv(\"http://compute-cuj.org/FDOC/INMATE_ACTIVE_INCARHIST.csv\",as.is=TRUE,nrows=20)\n",
    "tmp"
   ]
  },
  {
   "cell_type": "code",
   "execution_count": null,
   "metadata": {},
   "outputs": [],
   "source": [
    "tmp = read.csv(\"http://compute-cuj.org/FDOC/INMATE_ACTIVE_SCARSMARKS.csv\",as.is=TRUE,nrows=20)\n",
    "tmp"
   ]
  }
 ],
 "metadata": {
  "kernelspec": {
   "display_name": "R",
   "language": "R",
   "name": "ir"
  },
  "language_info": {
   "codemirror_mode": "r",
   "file_extension": ".r",
   "mimetype": "text/x-r-source",
   "name": "R",
   "pygments_lexer": "r",
   "version": "3.4.2"
  }
 },
 "nbformat": 4,
 "nbformat_minor": 1
}
