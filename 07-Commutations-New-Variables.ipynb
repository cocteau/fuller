{
 "cells": [
  {
   "cell_type": "markdown",
   "metadata": {},
   "source": [
    "The Clemency Initiative\n",
    "----\n",
    "\n",
    "In our last meeting we started looking at [the web page of Obama's commutations](https://www.justice.gov/pardon/obama-commutations). Our ultimate goal was to create a data frame that would let us operate on the data more conveniently. So how do we take the free text of [the commutations web page](https://www.justice.gov/pardon/obama-commutations) and systematically fill in a more structured data set? \n",
    "\n",
    "**1. Cleaning up the \"item\"-\"description\" pairs**\n",
    "\n",
    "Let's start where you lesson left off..."
   ]
  },
  {
   "cell_type": "code",
   "execution_count": null,
   "metadata": {},
   "outputs": [],
   "source": [
    "library(rvest)\n",
    "library(dplyr)\n",
    "library(lubridate)\n",
    "library(reshape2)\n",
    "library(stringr)\n",
    "\n",
    "page = read_html(\"https://www.justice.gov/pardon/obama-commutations\")\n",
    "tbs = html_nodes(page,\"table\")\n",
    "\n",
    "t1 = html_table(tbs[[1]])\n",
    "names(t1) = c(\"item\",\"description\")\n",
    "\n",
    "head(t1)"
   ]
  },
  {
   "cell_type": "markdown",
   "metadata": {},
   "source": [
    "While there are probably much more elegant ways to do this, we are going to run over the nodes in the web page that are tables, and then add them to a growing data frame. Each pass of the loop adds the data from another table. "
   ]
  },
  {
   "cell_type": "code",
   "execution_count": null,
   "metadata": {},
   "outputs": [],
   "source": [
    "# start with t1 and then loop through the other tables, adding to\n",
    "# the big \"commutations\" data set\n",
    "\n",
    "commutations = t1\n",
    "\n",
    "for(i in 2:length(tbs)){\n",
    "    \n",
    "    tt = html_table(tbs[[i]])\n",
    "    \n",
    "    # Table 9 has 3 columns by mistake - the third is unnecessary \n",
    "    # so we take just the first two in all cases\n",
    "    \n",
    "    tt = tt[,1:2]\n",
    "    \n",
    "    # Rename the columns from X1 and X2\n",
    "    \n",
    "    names(tt) = c(\"item\",\"description\")\n",
    "    \n",
    "    # Add the current table to the end of \"commutations\" by row-binding them\n",
    "    \n",
    "    commutations = rbind(commutations,tt)\n",
    "}"
   ]
  },
  {
   "cell_type": "code",
   "execution_count": null,
   "metadata": {},
   "outputs": [],
   "source": [
    "dim(commutations)"
   ]
  },
  {
   "cell_type": "markdown",
   "metadata": {},
   "source": [
    "This gives us 8750 lines or so. Now, let's look at those that have a blank \"item\" field. We'll notice that some of them are names, some are second or third elements of the offense or sentence, and some are paired with a second blank field. We'll want to get rid of those."
   ]
  },
  {
   "cell_type": "code",
   "execution_count": null,
   "metadata": {},
   "outputs": [],
   "source": [
    "sample_n(filter(commutations,str_trim(item)==\"\"),25)"
   ]
  },
  {
   "cell_type": "markdown",
   "metadata": {},
   "source": [
    "This leads me to ask whether any other \"description\" and \"item\" fields are the same."
   ]
  },
  {
   "cell_type": "code",
   "execution_count": null,
   "metadata": {},
   "outputs": [],
   "source": [
    "filter(commutations,str_trim(item) == str_trim(description))"
   ]
  },
  {
   "cell_type": "markdown",
   "metadata": {},
   "source": [
    "So let's get rid of these. They are going to mess things up."
   ]
  },
  {
   "cell_type": "code",
   "execution_count": null,
   "metadata": {},
   "outputs": [],
   "source": [
    "commutations = filter(commutations,str_trim(item)!=\"\" | str_trim(description)!=\"\")\n",
    "commutations = filter(commutations,str_trim(item) != str_trim(description))"
   ]
  },
  {
   "cell_type": "code",
   "execution_count": null,
   "metadata": {},
   "outputs": [],
   "source": [
    "head(commutations,50)"
   ]
  },
  {
   "cell_type": "code",
   "execution_count": null,
   "metadata": {},
   "outputs": [],
   "source": [
    "table(commutations$item)"
   ]
  },
  {
   "cell_type": "markdown",
   "metadata": {},
   "source": [
    "Now, we want to fill in the \"item\" field and replace the blank lines with something else. There are patterns that emerge in the data. Can you describe them?"
   ]
  },
  {
   "cell_type": "markdown",
   "metadata": {},
   "source": [
    "There are certainly better ways to do this, but in the code below, we run over each row and look at the row above it. If the \"item\" field is blank, we will look up and see if it had \"Terms of grant:\" or some other phrase above it and fill in the blank field accordingly. What is the rule?"
   ]
  },
  {
   "cell_type": "code",
   "execution_count": null,
   "metadata": {},
   "outputs": [],
   "source": [
    "itemm1 = commutations$item[1]\n",
    "\n",
    "for(i in 2:nrow(commutations)){\n",
    "    \n",
    "    item = commutations$item[i]\n",
    "    \n",
    "    if(str_trim(item)==\"\"){\n",
    "    \n",
    "        if(tolower(str_trim(itemm1))==\"terms of grant:\"){\n",
    "            commutations$item[i] = \"Name:\"\n",
    "        }\n",
    "        else{\n",
    "            if(tolower(str_trim(itemm1))==\"district/date:\"){\n",
    "                commutations$item[i] = \"District/Date 2:\"\n",
    "            }\n",
    "            else{\n",
    "                if(tolower(str_trim(itemm1))==\"sentence:\"){\n",
    "                    commutations$item[i] = \"Sentence 2:\"\n",
    "                }\n",
    "                else{\n",
    "                    if(tolower(str_trim(itemm1))==\"offense:\"){\n",
    "                        commutations$item[i] = \"Offense 2:\"\n",
    "                    }\n",
    "                }\n",
    "            }\n",
    "        }\n",
    "\n",
    "    }\n",
    "\n",
    "    itemm1 = commutations$item[i]\n",
    "}    \n",
    "\n",
    "commutations[1,1] = \"Name:\""
   ]
  },
  {
   "cell_type": "code",
   "execution_count": null,
   "metadata": {},
   "outputs": [],
   "source": [
    "head(commutations,50)"
   ]
  },
  {
   "cell_type": "code",
   "execution_count": null,
   "metadata": {},
   "outputs": [],
   "source": [
    "dim(commutations)"
   ]
  },
  {
   "cell_type": "code",
   "execution_count": null,
   "metadata": {},
   "outputs": [],
   "source": [
    "table(commutations$item)"
   ]
  },
  {
   "cell_type": "markdown",
   "metadata": {},
   "source": [
    "Let's look at the \"item\" cells that are blank..."
   ]
  },
  {
   "cell_type": "code",
   "execution_count": null,
   "metadata": {},
   "outputs": [],
   "source": [
    "commutations[str_trim(commutations$item)==\"\",]"
   ]
  },
  {
   "cell_type": "markdown",
   "metadata": {},
   "source": [
    "These we fix manually."
   ]
  },
  {
   "cell_type": "code",
   "execution_count": null,
   "metadata": {},
   "outputs": [],
   "source": [
    "commutations[4315:4325,]"
   ]
  },
  {
   "cell_type": "code",
   "execution_count": null,
   "metadata": {
    "collapsed": true
   },
   "outputs": [],
   "source": [
    "commutations$item[4321] = \"District/Date:\"\n",
    "commutations$description[4321] = NA\n",
    "commutations$item[4322] = \"District/Date 2:\""
   ]
  },
  {
   "cell_type": "code",
   "execution_count": null,
   "metadata": {},
   "outputs": [],
   "source": [
    "commutations[4315:4325,]"
   ]
  },
  {
   "cell_type": "markdown",
   "metadata": {},
   "source": [
    "OK one fixed. Now let's tackle the next one."
   ]
  },
  {
   "cell_type": "code",
   "execution_count": null,
   "metadata": {},
   "outputs": [],
   "source": [
    "commutations[str_trim(commutations$item)==\"\",]"
   ]
  },
  {
   "cell_type": "code",
   "execution_count": null,
   "metadata": {},
   "outputs": [],
   "source": [
    "commutations[4415:4425,]"
   ]
  },
  {
   "cell_type": "markdown",
   "metadata": {},
   "source": [
    "Checking the web page, we see that there was one offense listed. We might need to do more checking here, but for now we'll assume it's just one offense and change the data."
   ]
  },
  {
   "cell_type": "code",
   "execution_count": null,
   "metadata": {},
   "outputs": [],
   "source": [
    "commutations = commutations[-4418,]\n",
    "commutations[4418,]"
   ]
  },
  {
   "cell_type": "code",
   "execution_count": null,
   "metadata": {},
   "outputs": [],
   "source": [
    "commutations$item[4418] = \"District/Date:\"\n",
    "commutations$description[4418] = \"District of New Mexico; August 7, 2006\"\n",
    "rownames(commutations) = 1:nrow(commutations)"
   ]
  },
  {
   "cell_type": "markdown",
   "metadata": {},
   "source": [
    "And check."
   ]
  },
  {
   "cell_type": "code",
   "execution_count": null,
   "metadata": {},
   "outputs": [],
   "source": [
    "commutations[4415:4425,]"
   ]
  },
  {
   "cell_type": "code",
   "execution_count": null,
   "metadata": {},
   "outputs": [],
   "source": [
    "commutations$description[4417] = \"Possession with intent to distribute 500 grams and more of a mixture\"\n",
    "commutations$description[4419] = \"360 months’ imprisonment; 10 years’ supervised release\"\n",
    "commutations[4415:4425,]"
   ]
  },
  {
   "cell_type": "markdown",
   "metadata": {},
   "source": [
    "Two fixed. Now the third."
   ]
  },
  {
   "cell_type": "code",
   "execution_count": null,
   "metadata": {},
   "outputs": [],
   "source": [
    "commutations[str_trim(commutations$item)==\"\",]"
   ]
  },
  {
   "cell_type": "code",
   "execution_count": null,
   "metadata": {},
   "outputs": [],
   "source": [
    "commutations[6240:6250,]"
   ]
  },
  {
   "cell_type": "code",
   "execution_count": null,
   "metadata": {},
   "outputs": [],
   "source": [
    "commutations$item[6244] = \"Offense 3:\"\n",
    "commutations$item[6247] = \"District/Date 3:\"\n",
    "commutations$item[6250] = \"Sentence 3:\"\n",
    "commutations[6240:6250,]"
   ]
  },
  {
   "cell_type": "markdown",
   "metadata": {},
   "source": [
    "Ok, onto the next one."
   ]
  },
  {
   "cell_type": "code",
   "execution_count": null,
   "metadata": {},
   "outputs": [],
   "source": [
    "commutations[str_trim(commutations$item)==\"\",]"
   ]
  },
  {
   "cell_type": "markdown",
   "metadata": {},
   "source": [
    "Fixed! Ha! We now go thorugh and fix the \"item\" entries. We will get rid of slashes and spaces and remove any whitespace. We will also turn the labels all lowercase. "
   ]
  },
  {
   "cell_type": "code",
   "execution_count": null,
   "metadata": {},
   "outputs": [],
   "source": [
    "table(commutations$item)"
   ]
  },
  {
   "cell_type": "code",
   "execution_count": null,
   "metadata": {},
   "outputs": [],
   "source": [
    "commutations$item = tolower(str_trim(commutations$item))\n",
    "commutations$item = gsub(\"/\",\"_\",gsub(\":\",\"\",gsub(\" \",\"_\",commutations$item)))\n",
    "commutations$description = gsub(\"’\",\"'\",commutations$description)"
   ]
  },
  {
   "cell_type": "code",
   "execution_count": null,
   "metadata": {},
   "outputs": [],
   "source": [
    "table(commutations$item)"
   ]
  },
  {
   "cell_type": "markdown",
   "metadata": {},
   "source": [
    "Finally, we want to give everyone an ID. We'll create a column made of 0's and then put a 1 where we have a \"name\" field. We will then take the cumsum() of this column to give everyone a unique ID."
   ]
  },
  {
   "cell_type": "code",
   "execution_count": null,
   "metadata": {
    "collapsed": true
   },
   "outputs": [],
   "source": [
    "commutations$id = 0\n",
    "commutations$id[commutations$item==\"name\"] = 1\n",
    "commutations$id = cumsum(commutations$id)"
   ]
  },
  {
   "cell_type": "code",
   "execution_count": null,
   "metadata": {},
   "outputs": [],
   "source": [
    "head(commutations,25)"
   ]
  },
  {
   "cell_type": "code",
   "execution_count": null,
   "metadata": {},
   "outputs": [],
   "source": [
    "table(table(commutations$id))"
   ]
  },
  {
   "cell_type": "markdown",
   "metadata": {},
   "source": [
    "The 4 and the 11 look suspicious. Let's check those out."
   ]
  },
  {
   "cell_type": "code",
   "execution_count": null,
   "metadata": {},
   "outputs": [],
   "source": [
    "tt = table(commutations$id)\n",
    "tt[tt==4]"
   ]
  },
  {
   "cell_type": "code",
   "execution_count": null,
   "metadata": {},
   "outputs": [],
   "source": [
    "commutations[commutations$id==876,]"
   ]
  },
  {
   "cell_type": "markdown",
   "metadata": {},
   "source": [
    "For ID 876, we are missing a \"district_date\" entry. We can see the district in the offense entry. Let's add it and fix the offense entry."
   ]
  },
  {
   "cell_type": "code",
   "execution_count": null,
   "metadata": {},
   "outputs": [],
   "source": [
    "commutations$description[4460] = \"Conspiracy to distribute in excess of 500 grams of methamphetamine (mixture)\"\n",
    "tmp = data.frame(item=\"district_date\",description=\"Southern District of Indiana\",id=876)\n",
    "commutations = rbind(commutations,tmp)"
   ]
  },
  {
   "cell_type": "markdown",
   "metadata": {},
   "source": [
    "Now check the 11 entry id."
   ]
  },
  {
   "cell_type": "code",
   "execution_count": null,
   "metadata": {},
   "outputs": [],
   "source": [
    "tt[tt==11]"
   ]
  },
  {
   "cell_type": "code",
   "execution_count": null,
   "metadata": {
    "scrolled": true
   },
   "outputs": [],
   "source": [
    "commutations[commutations$id==1225,]"
   ]
  },
  {
   "cell_type": "markdown",
   "metadata": {},
   "source": [
    "The 11 is OK because it corresponds to (our only) an entry with 3 offenses and sentences and districts. Look at our table of counts again and see if there is anything else to fix up."
   ]
  },
  {
   "cell_type": "code",
   "execution_count": null,
   "metadata": {},
   "outputs": [],
   "source": [
    "table(table(commutations$id))"
   ]
  },
  {
   "cell_type": "code",
   "execution_count": null,
   "metadata": {},
   "outputs": [],
   "source": [
    "tt[tt==8]"
   ]
  },
  {
   "cell_type": "code",
   "execution_count": null,
   "metadata": {},
   "outputs": [],
   "source": [
    "commutations[commutations$id==1166,]"
   ]
  },
  {
   "cell_type": "markdown",
   "metadata": {},
   "source": [
    "Let's now look at the few that are potentially malformed. These have just 6 or 7 entries."
   ]
  },
  {
   "cell_type": "code",
   "execution_count": null,
   "metadata": {},
   "outputs": [],
   "source": [
    "malformed = as.numeric(names(tt[tt==6 | tt==7]))\n",
    "malformed"
   ]
  },
  {
   "cell_type": "markdown",
   "metadata": {},
   "source": [
    "... and for the moment we will remove them. "
   ]
  },
  {
   "cell_type": "code",
   "execution_count": null,
   "metadata": {},
   "outputs": [],
   "source": [
    "commutations = filter(commutations,!(id %in% malformed))\n",
    "table(table(commutations$id))"
   ]
  },
  {
   "cell_type": "markdown",
   "metadata": {},
   "source": [
    "Finally check that our categories all line up."
   ]
  },
  {
   "cell_type": "code",
   "execution_count": null,
   "metadata": {},
   "outputs": [],
   "source": [
    "(table(commutations$item))"
   ]
  },
  {
   "cell_type": "markdown",
   "metadata": {},
   "source": [
    "**2. Transforming the shape to a regular data frame**\n",
    "\n",
    "Now given this shape of the data set, we can fold it back up using dcast(). The interplay between the two formats is really common."
   ]
  },
  {
   "cell_type": "code",
   "execution_count": null,
   "metadata": {},
   "outputs": [],
   "source": [
    "library(reshape2)\n",
    "newcommutations = dcast(commutations,id~item,value.var = \"description\")\n",
    "head(newcommutations)"
   ]
  },
  {
   "cell_type": "markdown",
   "metadata": {},
   "source": [
    "**3. Adding new variables to the data set**\n",
    "\n",
    "Make dates as we did before, knowing we'll have to fix some of them up manually. "
   ]
  },
  {
   "cell_type": "code",
   "execution_count": null,
   "metadata": {},
   "outputs": [],
   "source": [
    "newcommutations = mutate(newcommutations,date=mdy(str_extract(district_date,\"; .*\")))"
   ]
  },
  {
   "cell_type": "code",
   "execution_count": null,
   "metadata": {},
   "outputs": [],
   "source": [
    "newcommutations = filter(newcommutations,!is.na(date))"
   ]
  },
  {
   "cell_type": "code",
   "execution_count": null,
   "metadata": {},
   "outputs": [],
   "source": [
    "newcommutations = mutate(newcommutations,date_2=mdy(str_extract(district_date_2,\"; .*\")))\n",
    "newcommutations = mutate(newcommutations,date_3=mdy(str_extract(district_date_3,\"; .*\")))\n",
    "\n",
    "head(newcommutations)"
   ]
  },
  {
   "cell_type": "markdown",
   "metadata": {},
   "source": [
    "Now, let's pull the states from the \"district\" field. R has a data set referring to names of states. We load it by using a call to data() -- similar to the library() call."
   ]
  },
  {
   "cell_type": "code",
   "execution_count": null,
   "metadata": {},
   "outputs": [],
   "source": [
    "data(state)\n",
    "ls()"
   ]
  },
  {
   "cell_type": "code",
   "execution_count": null,
   "metadata": {},
   "outputs": [],
   "source": [
    "state.name"
   ]
  },
  {
   "cell_type": "markdown",
   "metadata": {},
   "source": [
    "Let's make a regular expression now by pasting these names together with a giant \"or\". We are looking for \"\\bname\\b\" in each case."
   ]
  },
  {
   "cell_type": "code",
   "execution_count": null,
   "metadata": {},
   "outputs": [],
   "source": [
    "reg = str_c(\"\\\\b\",tolower(state.name),\"\\\\b\",collapse=\"|\")\n",
    "reg"
   ]
  },
  {
   "cell_type": "code",
   "execution_count": null,
   "metadata": {},
   "outputs": [],
   "source": [
    "dd = newcommutations$district_date\n",
    "dd[is.na(str_extract(tolower(dd),reg))]"
   ]
  },
  {
   "cell_type": "code",
   "execution_count": null,
   "metadata": {},
   "outputs": [],
   "source": [
    "newcommutations$district_date[126]=\"Eastern District of Wisconsin; March 13, 2007\""
   ]
  },
  {
   "cell_type": "code",
   "execution_count": null,
   "metadata": {},
   "outputs": [],
   "source": [
    "state.name = c(state.name,\"Puerto Rico\",\"Guam\",\"District of Columbia\",\"U.S. Army Court Martial\")\n",
    "reg = str_c(\"\\\\b\",tolower(state.name),\"\\\\b\",collapse=\"|\")\n",
    "\n",
    "dd = newcommutations$district_date\n",
    "dd[is.na(str_extract(tolower(dd),reg))]"
   ]
  },
  {
   "cell_type": "code",
   "execution_count": null,
   "metadata": {},
   "outputs": [],
   "source": [
    "newcommutations = mutate(newcommutations,state=str_extract(tolower(district_date),reg))"
   ]
  },
  {
   "cell_type": "markdown",
   "metadata": {},
   "source": [
    "And make a table of the states represented."
   ]
  },
  {
   "cell_type": "code",
   "execution_count": null,
   "metadata": {},
   "outputs": [],
   "source": [
    "newcommutations = mutate(newcommutations,state_2=str_extract(tolower(district_date_2),reg))\n",
    "newcommutations = mutate(newcommutations,state_3=str_extract(tolower(district_date_3),reg))\n",
    "\n",
    "head(newcommutations)"
   ]
  },
  {
   "cell_type": "code",
   "execution_count": null,
   "metadata": {},
   "outputs": [],
   "source": [
    "table(newcommutations$state)"
   ]
  },
  {
   "cell_type": "code",
   "execution_count": null,
   "metadata": {},
   "outputs": [],
   "source": [
    "sort(table(newcommutations$state))"
   ]
  },
  {
   "cell_type": "markdown",
   "metadata": {},
   "source": [
    "Now the sentences. First, have a look. Let's try to pull the count of months and years."
   ]
  },
  {
   "cell_type": "code",
   "execution_count": null,
   "metadata": {},
   "outputs": [],
   "source": [
    "head(newcommutations$sentence)"
   ]
  },
  {
   "cell_type": "code",
   "execution_count": null,
   "metadata": {},
   "outputs": [],
   "source": [
    "tmp = str_extract(newcommutations$sentence,\"[0-9]+ [^0-9]+ imprisonment\")\n",
    "tmp"
   ]
  },
  {
   "cell_type": "markdown",
   "metadata": {},
   "source": [
    "Lots missing. Gotta work harder. Let's try something about life imprisonment or a count of months/years."
   ]
  },
  {
   "cell_type": "code",
   "execution_count": null,
   "metadata": {},
   "outputs": [],
   "source": [
    "print(newcommutations$sentence[is.na(tmp)])"
   ]
  },
  {
   "cell_type": "code",
   "execution_count": null,
   "metadata": {},
   "outputs": [],
   "source": [
    "tmp = str_extract(tolower(newcommutations$sentence),\"^(1\\\\.)?\\\\s*(240 months)|([0-9,]+ [^0-9]+ imprisonment)|(life imprisonment)|(life plus (five years'||[0-9]+ [^0-9]*) imprisonment)\")\n",
    "tmp"
   ]
  },
  {
   "cell_type": "code",
   "execution_count": null,
   "metadata": {},
   "outputs": [],
   "source": [
    "term = \"^(1\\\\.)?\\\\s*(240 months)|([0-9,]+ [^0-9]+ imprisonment)|(death sentence)|(life imprisonment)|(life plus (five years'||[0-9]+ [^0-9]*) imprisonment)\"\n",
    "newcommutations = mutate(newcommutations,term_string = str_extract(tolower(sentence),term))\n",
    "head(newcommutations)"
   ]
  },
  {
   "cell_type": "markdown",
   "metadata": {},
   "source": [
    "Finally, let's turn the months into years so we're all in the same units."
   ]
  },
  {
   "cell_type": "code",
   "execution_count": null,
   "metadata": {},
   "outputs": [],
   "source": [
    "newcommutations$time = as.numeric(str_extract(newcommutations$term_string,\"^([0-9]+|life)\"))/ifelse(str_detect(newcommutations$term_string,\"month\"),12,1)\n",
    "sample_n(newcommutations,10)"
   ]
  },
  {
   "cell_type": "code",
   "execution_count": null,
   "metadata": {},
   "outputs": [],
   "source": [
    "newcommutations$term_string[is.na(newcommutations$time)]"
   ]
  },
  {
   "cell_type": "code",
   "execution_count": null,
   "metadata": {},
   "outputs": [],
   "source": [
    "hist(newcommutations$time,breaks=100)"
   ]
  },
  {
   "cell_type": "code",
   "execution_count": null,
   "metadata": {},
   "outputs": [],
   "source": [
    "filter(newcommutations,time>80)"
   ]
  },
  {
   "cell_type": "code",
   "execution_count": null,
   "metadata": {},
   "outputs": [],
   "source": [
    "sample_n(newcommutations,20)"
   ]
  },
  {
   "cell_type": "markdown",
   "metadata": {},
   "source": [
    "The offense field looks good. Let's see if we can pull out the laws that were broken. I love the section symbol..."
   ]
  },
  {
   "cell_type": "code",
   "execution_count": null,
   "metadata": {},
   "outputs": [],
   "source": [
    "dim(filter(newcommutations,!str_detect(offense,\"§\")))"
   ]
  },
  {
   "cell_type": "code",
   "execution_count": null,
   "metadata": {},
   "outputs": [],
   "source": [
    "head(filter(newcommutations,!str_detect(offense,\"§\")))"
   ]
  },
  {
   "cell_type": "markdown",
   "metadata": {},
   "source": [
    "It's missing in 201 of the 945 commutations. Not so good. Let's try to scrape out different drugs instead."
   ]
  },
  {
   "cell_type": "code",
   "execution_count": null,
   "metadata": {},
   "outputs": [],
   "source": [
    "nodrugs = filter(newcommutations,!(str_detect(tolower(offense),\"phencyclidine|narcotic|drug|controlled substance|heroin|cocaine|mari(j|h)uana|methamphetamine\")))\n",
    "nodrugs"
   ]
  },
  {
   "cell_type": "code",
   "execution_count": null,
   "metadata": {},
   "outputs": [],
   "source": [
    "dim(nodrugs)"
   ]
  },
  {
   "cell_type": "markdown",
   "metadata": {},
   "source": [
    "Finally, we'll venture into Python with the first names of our inmates and try to assess their gender."
   ]
  },
  {
   "cell_type": "code",
   "execution_count": null,
   "metadata": {},
   "outputs": [],
   "source": [
    "newcommutations = mutate(newcommutations,first_name=str_extract(name,\"^[a-zA-Z]+\"))"
   ]
  },
  {
   "cell_type": "markdown",
   "metadata": {},
   "source": [
    "Include just the first name..."
   ]
  },
  {
   "cell_type": "code",
   "execution_count": null,
   "metadata": {},
   "outputs": [],
   "source": [
    "newcommutations = newcommutations[,c(1,5,21,2:4,13:18,6:11,19:20,12)]"
   ]
  },
  {
   "cell_type": "markdown",
   "metadata": {},
   "source": [
    "... and write it out to a file. We will then use a Python program to add gender (slightly iffy, but we can try)."
   ]
  },
  {
   "cell_type": "code",
   "execution_count": null,
   "metadata": {
    "collapsed": true
   },
   "outputs": [],
   "source": [
    "write.csv(newcommutations,file=\"newcomms.csv\",row.names=FALSE)"
   ]
  },
  {
   "cell_type": "markdown",
   "metadata": {},
   "source": [
    "Either read it back in or download the newcomms2.csv file from CourseWorks."
   ]
  },
  {
   "cell_type": "code",
   "execution_count": null,
   "metadata": {},
   "outputs": [],
   "source": [
    "newcommutations = read.csv(\"newcomms2.csv\")\n",
    "\n",
    "dim(newcommutations)"
   ]
  },
  {
   "cell_type": "code",
   "execution_count": null,
   "metadata": {},
   "outputs": [],
   "source": [
    "head(newcommutations)"
   ]
  },
  {
   "cell_type": "code",
   "execution_count": null,
   "metadata": {},
   "outputs": [],
   "source": [
    "table(newcommutations$gender)"
   ]
  },
  {
   "cell_type": "code",
   "execution_count": null,
   "metadata": {},
   "outputs": [],
   "source": [
    "sample_n(filter(newcommutations,gender==\"unknown\"),25)"
   ]
  },
  {
   "cell_type": "code",
   "execution_count": null,
   "metadata": {},
   "outputs": [],
   "source": [
    "library(lattice)\n",
    "\n",
    "histogram(~time|gender,data=newcommutations,breaks=80)"
   ]
  }
 ],
 "metadata": {
  "kernelspec": {
   "display_name": "R",
   "language": "R",
   "name": "ir"
  },
  "language_info": {
   "codemirror_mode": "r",
   "file_extension": ".r",
   "mimetype": "text/x-r-source",
   "name": "R",
   "pygments_lexer": "r",
   "version": "3.4.2"
  }
 },
 "nbformat": 4,
 "nbformat_minor": 1
}
