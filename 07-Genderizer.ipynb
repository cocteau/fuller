{
 "cells": [
  {
   "cell_type": "markdown",
   "metadata": {},
   "source": [
    "Brief jump to Python\n",
    "--------------------\n",
    "\n",
    "The same notebook can be used to run Python code. Granted the syntax is very different, the overall style of coding is the same. First, we install a package (like an R package) that attempts to asign gender to different first names. Yes, it's dicey but this program at least provides you an indicator of its certainty about a name.\n",
    "\n",
    "First, install the package."
   ]
  },
  {
   "cell_type": "code",
   "execution_count": null,
   "metadata": {},
   "outputs": [],
   "source": [
    "%%bash\n",
    "pip install gender-guesser"
   ]
  },
  {
   "cell_type": "markdown",
   "metadata": {},
   "source": [
    "The first line below is like R's library() command. This takes the data and objects we just created and loads them into our Python session for our use. We then create a Detector() and use it to assign genders to names..."
   ]
  },
  {
   "cell_type": "code",
   "execution_count": null,
   "metadata": {},
   "outputs": [],
   "source": [
    "from gender_guesser.detector import Detector\n",
    "d = Detector()"
   ]
  },
  {
   "cell_type": "code",
   "execution_count": null,
   "metadata": {},
   "outputs": [],
   "source": [
    "print(d.get_gender(u\"Rick\"))\n",
    "print(d.get_gender(u\"Sally\"))\n",
    "print(d.get_gender(u\"Pauley\")) # should be androgynous"
   ]
  },
  {
   "cell_type": "markdown",
   "metadata": {},
   "source": [
    "Not too bad! We will then read in our CSV file, take the first name, pass it through the detector and add the column to our CSV. Here we go! Notice that we are using a loop and that the syntax is not entirely dissimilar from R's."
   ]
  },
  {
   "cell_type": "code",
   "execution_count": null,
   "metadata": {},
   "outputs": [],
   "source": [
    "from csv import reader, writer\n",
    "\n",
    "infile = reader(open(\"newcomms.csv\"))\n",
    "outfile = writer(open(\"newcomms2.csv\",\"w\"))\n",
    "\n",
    "row = next(infile)\n",
    "row.insert(3,\"gender\")\n",
    "\n",
    "outfile.writerow(row)\n",
    "\n",
    "for row in infile:\n",
    "    \n",
    "    gender = d.get_gender(row[2])\n",
    "    row.insert(3,gender)\n",
    "    if len(row)!=22:    \n",
    "        print(len(row))\n",
    "        print(row)\n",
    "\n",
    "    outfile.writerow(row)\n"
   ]
  }
 ],
 "metadata": {
  "anaconda-cloud": {},
  "kernelspec": {
   "display_name": "Python 3",
   "language": "python",
   "name": "python3"
  },
  "language_info": {
   "codemirror_mode": {
    "name": "ipython",
    "version": 3
   },
   "file_extension": ".py",
   "mimetype": "text/x-python",
   "name": "python",
   "nbconvert_exporter": "python",
   "pygments_lexer": "ipython3",
   "version": "3.6.2"
  }
 },
 "nbformat": 4,
 "nbformat_minor": 1
}
