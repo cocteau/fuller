{
 "cells": [
  {
   "cell_type": "code",
   "execution_count": null,
   "metadata": {
    "collapsed": true
   },
   "outputs": [],
   "source": [
    "options(repr.matrix.max.cols=100,repr.matrix.max.rows=300)"
   ]
  },
  {
   "cell_type": "markdown",
   "metadata": {},
   "source": [
    "FDOC Inmate Data, Continued\n",
    "----------------------------\n",
    "\n",
    "We are going to work a little more with the FDOC data, hopefully providing you with code to help you continue to dig into the data. First, we are going to look at current inmates' incarceration histories. Specifically we will compute how much time each person has spent in the system and how how many times they have been jailed. \n",
    "\n",
    "For this, we need two data sets -- we will read in the INMATE_ACTIVE_ROOT.csv table and the INMATE_ACTIVE_INCARHIST.csv table. By now we are old hands at this."
   ]
  },
  {
   "cell_type": "code",
   "execution_count": null,
   "metadata": {},
   "outputs": [],
   "source": [
    "root = read.csv(\"http://compute-cuj.org/FDOC/INMATE_ACTIVE_ROOT.csv\",as.is=TRUE)\n",
    "head(root,5)"
   ]
  },
  {
   "cell_type": "code",
   "execution_count": null,
   "metadata": {},
   "outputs": [],
   "source": [
    "prior = read.csv(\"http://compute-cuj.org/FDOC/INMATE_ACTIVE_INCARHIST.csv\",as.is=T)\n",
    "head(prior,20)"
   ]
  },
  {
   "cell_type": "markdown",
   "metadata": {},
   "source": [
    "As we did last time, for all the dates, we have to make up for the 1900 vs. 2000 century problem. Just giving two digits means that 01 or 16 for a year refers to 2000, while 70 or 95 refers to 1990."
   ]
  },
  {
   "cell_type": "code",
   "execution_count": null,
   "metadata": {},
   "outputs": [],
   "source": [
    "# Extract the 2-digit years and correct for 1900 v. 2000\n",
    "rtd = as.numeric(substr(prior$ReceiptDate,7,8))\n",
    "rld = as.numeric(substr(prior$ReleaseDate,7,8))\n",
    "\n",
    "table(rtd)\n",
    "table(rld)"
   ]
  },
  {
   "cell_type": "markdown",
   "metadata": {},
   "source": [
    "Here we fix the problem using the function ifelse(). Make sure you remember what it does! The last two commands are histograms of the dates people were admitted and released. \n",
    "\n",
    "If an inmate entered the system 5 times, each of their 4 prevous entries and exits are tallied here, together with the entry that represents their most recent (the term they're currently serving)."
   ]
  },
  {
   "cell_type": "code",
   "execution_count": null,
   "metadata": {},
   "outputs": [],
   "source": [
    "rtd = ifelse(rtd <= 16, 2000+rtd, 1900+rtd)\n",
    "rld = ifelse(rld <= 16, 2000+rld, 1900+rld)\n",
    "\n",
    "options(repr.plot.width=8,repr.plot.height=6)\n",
    "\n",
    "hist(rtd,breaks=200)\n",
    "hist(rld,breaks=200)"
   ]
  },
  {
   "cell_type": "markdown",
   "metadata": {},
   "source": [
    "What do you think?\n",
    "\n",
    "Below we create a \"smoothed\" histogram. Remember how we fit local regressions, this is doing much the same, acting locally to estimate the \"density\" of points in a neighborhood. The plot is scaled so that the area under the curve is 1 (remember that??)."
   ]
  },
  {
   "cell_type": "code",
   "execution_count": null,
   "metadata": {
    "scrolled": true
   },
   "outputs": [],
   "source": [
    "rtdfit = density(rtd)\n",
    "plot(rtdfit,xlab=\"year\",ylab=\"density\",main=\"Receipt (black) and Release (Green) Dates\")\n",
    "\n",
    "rldfit = density(rld,na.rm=TRUE)\n",
    "lines(rldfit,col=\"green\")"
   ]
  },
  {
   "cell_type": "markdown",
   "metadata": {},
   "source": [
    "**1. The variable rtd represents the year someone was admitted, and rld gives you the year they were released. When they are still serving their sentence, rld is NA, missing. Use this fact to create a histogram of admission dates (elements of rtd) that correspond to the prison entry of the term they are currently serving (the corresponding release year in rld is NA).**\n",
    "\n",
    "**2. Visually compare the data frames \"root\" and \"prior\" and explain what \"ReceiptDate\" in the \"root\" frame means.**"
   ]
  },
  {
   "cell_type": "code",
   "execution_count": null,
   "metadata": {},
   "outputs": [],
   "source": [
    "# Put your code here\n",
    "\n"
   ]
  },
  {
   "cell_type": "markdown",
   "metadata": {},
   "source": [
    "We are now going pull all the processing into one cell. "
   ]
  },
  {
   "cell_type": "code",
   "execution_count": null,
   "metadata": {},
   "outputs": [],
   "source": [
    "library(lubridate)\n",
    "library(dplyr)\n",
    "\n",
    "root = read.csv(\"http://compute-cuj.org/FDOC/INMATE_ACTIVE_ROOT.csv\",as.is=TRUE)\n",
    "prior = read.csv(\"http://compute-cuj.org/FDOC/INMATE_ACTIVE_INCARHIST.csv\",as.is=T)\n",
    "\n",
    "\n",
    "# Fix the date strings by adding 1900 to some and 2000 to others\n",
    "\n",
    "rtd = as.numeric(substr(prior$ReceiptDate,7,8))\n",
    "rld = as.numeric(substr(prior$ReleaseDate,7,8))\n",
    "rtd = ifelse(rtd <= 16, 2000+rtd, 1900+rtd)\n",
    "rld = ifelse(rld <= 16, 2000+rld, 1900+rld)\n",
    "\n",
    "# Here we use the fixed year for ReleaseDate only if its value is not \"\". \n",
    "# A ReleaseDate of \"\" means that someone is still serving time, and so we will\n",
    "# use the current date so that we can tally time-served for each inmate.\n",
    "\n",
    "prior$ReceiptDateFixed = paste(substr(prior$ReceiptDate,1,5),rtd,sep=\"/\")\n",
    "prior$ReleaseDateFixed = ifelse(prior$ReleaseDate==\"\",\"11/10/2016\",paste(substr(prior$ReleaseDate,1,5),rld,sep=\"/\"))\n",
    "\n",
    "# Turn the fixed date strings into date objects using mdy()\n",
    "prior$ReceiptDateObj = mdy(prior$ReceiptDateFixed)\n",
    "prior$ReleaseDateObj = mdy(prior$ReleaseDateFixed)\n",
    "\n",
    "# And create a new variable that, for each prison term, computes how much time has \n",
    "# been spent in jail.\n",
    "\n",
    "prior$TimeSpent = interval(prior$ReceiptDateObj,prior$ReleaseDateObj)/dyears(1)\n",
    "\n",
    "# finally sort the data set by DCNumber and then by their prison sentences\n",
    "\n",
    "prior = arrange(prior,DCNumber,ReceiptDateObj)\n",
    "\n",
    "head(prior)"
   ]
  },
  {
   "cell_type": "markdown",
   "metadata": {},
   "source": [
    "We now take \"prior\" and group entries by DCNumber, counting how many times each person has been in prison and how much time they served. Those who are still in prison will add up time until today."
   ]
  },
  {
   "cell_type": "code",
   "execution_count": null,
   "metadata": {},
   "outputs": [],
   "source": [
    "priortime = summarise(group_by(prior,DCNumber),count=n(),time=sum(TimeSpent,na.rm=TRUE))\n",
    "head(priortime)\n",
    "dim(priortime)"
   ]
  },
  {
   "cell_type": "markdown",
   "metadata": {},
   "source": [
    "We then add the \"count\" and \"time\" variables back to our \"root\" data set using a left_join(). This mimics what we did for the last assignment."
   ]
  },
  {
   "cell_type": "code",
   "execution_count": null,
   "metadata": {},
   "outputs": [],
   "source": [
    "root = left_join(root,priortime,by=\"DCNumber\")\n",
    "head(root)"
   ]
  },
  {
   "cell_type": "markdown",
   "metadata": {},
   "source": [
    "And now we make some graphics. First a summary of the number of times someone has been in prison and then a boxplot showing how total time served varies with the number of times they have been in prison. To make this cleaner, we might drop the sentences that are currently being served."
   ]
  },
  {
   "cell_type": "code",
   "execution_count": null,
   "metadata": {},
   "outputs": [],
   "source": [
    "barplot(table(root$count))"
   ]
  },
  {
   "cell_type": "code",
   "execution_count": null,
   "metadata": {},
   "outputs": [],
   "source": [
    "boxplot(time~count,data=root,xlab=\"Number of prison terms\",ylab=\"Time spent (to date)\")"
   ]
  },
  {
   "cell_type": "markdown",
   "metadata": {},
   "source": [
    "What do the boxplot and barplot tell you? Who do you want to focus in on? I thought perhaps those people with more than 15 offenses, although between 10 and 15 is interesting too. What are they in jail for?"
   ]
  },
  {
   "cell_type": "code",
   "execution_count": null,
   "metadata": {},
   "outputs": [],
   "source": [
    "rep = filter(root,count >=15)\n",
    "tail(rep)"
   ]
  },
  {
   "cell_type": "code",
   "execution_count": null,
   "metadata": {},
   "outputs": [],
   "source": [
    "pastoff = read.csv(\"http://compute-cuj.org/FDOC/INMATE_ACTIVE_OFFENSES_prpr.csv\",as.is=TRUE)\n",
    "off = read.csv(\"http://compute-cuj.org/FDOC/INMATE_ACTIVE_OFFENSES_CPS.csv\",as.is=TRUE)\n",
    "head(pastoff,5)"
   ]
  },
  {
   "cell_type": "code",
   "execution_count": null,
   "metadata": {},
   "outputs": [],
   "source": [
    "i = 23\n",
    "filter(off,DCNumber == rep$DCNumber[i])\n",
    "filter(pastoff,DCNumber == rep$DCNumber[i])"
   ]
  },
  {
   "cell_type": "markdown",
   "metadata": {},
   "source": [
    "Finally, let's look at total incarceration. The plots we've made so far concern the current prison population. We can also add in information about those that have been released and are no longer serving time. When were they admitted? Released? Here is all the code in one place to create a big data set about receipt and release times for anyone in the database."
   ]
  },
  {
   "cell_type": "code",
   "execution_count": null,
   "metadata": {},
   "outputs": [],
   "source": [
    "prior = read.csv(\"http://compute-cuj.org/FDOC/INMATE_ACTIVE_INCARHIST.csv\",as.is=T)\n",
    "\n",
    "rtd = as.numeric(substr(prior$ReceiptDate,7,8))\n",
    "rld = as.numeric(substr(prior$ReleaseDate,7,8))\n",
    "\n",
    "rtd = ifelse(rtd <= 16, 2000+rtd, 1900+rtd)\n",
    "rld = ifelse(rld <= 16, 2000+rld, 1900+rld)\n",
    "\n",
    "prior$ReceiptDateFixed = ifelse(prior$ReceiptDate==\"\",\"\",paste(substr(prior$ReceiptDate,1,5),rtd,sep=\"/\"))\n",
    "prior$ReleaseDateFixed = ifelse(prior$ReleaseDate==\"\",\"11/10/2016\",paste(substr(prior$ReleaseDate,1,5),rld,sep=\"/\"))\n",
    "\n",
    "prior$ReceiptDateObj = mdy(prior$ReceiptDateFixed)\n",
    "prior$ReleaseDateObj = mdy(prior$ReleaseDateFixed)\n",
    "\n",
    "rprior = read.csv(\"http://compute-cuj.org/FDOC/INMATE_RELEASE_INCARHIST.csv\",as.is=T)\n",
    "\n",
    "rrtd = as.numeric(substr(rprior$ReceiptDate,7,8))\n",
    "rrld = as.numeric(substr(rprior$ReleaseDate,7,8))\n",
    "\n",
    "rrtd = ifelse(rrtd <= 16, 2000+rrtd, 1900+rrtd)\n",
    "rrld = ifelse(rrld <= 16, 2000+rrld, 1900+rrld)\n",
    "\n",
    "rprior$ReceiptDateFixed = paste(substr(rprior$ReceiptDate,1,5),rrtd,sep=\"/\")\n",
    "rprior$ReleaseDateFixed = ifelse(rprior$ReleaseDate==\"\",\"\",paste(substr(rprior$ReleaseDate,1,5),rrld,sep=\"/\"))\n",
    "\n",
    "rprior$ReceiptDateObj = mdy(rprior$ReceiptDateFixed)\n",
    "rprior$ReleaseDateObj = mdy(rprior$ReleaseDateFixed)"
   ]
  },
  {
   "cell_type": "markdown",
   "metadata": {},
   "source": [
    "Remake our histograms..."
   ]
  },
  {
   "cell_type": "code",
   "execution_count": null,
   "metadata": {},
   "outputs": [],
   "source": [
    "hist(c(rld,rrld),breaks=200,main=\"Release year\")\n",
    "hist(c(rtd,rrtd),breaks=200,main=\"Receipt year\")"
   ]
  },
  {
   "cell_type": "markdown",
   "metadata": {},
   "source": [
    "Here we create the TimeSpent variable for each time they were in prison. We use summarise() to count the number of times they were in jail and then sum() up the TimeSpent to get their total time served. In the end we make a big data set that covers everyone in the data base. The command to add one data set to the bottom of another is rbind() for row-bind. There is also a cbind() to add columns to a table."
   ]
  },
  {
   "cell_type": "code",
   "execution_count": null,
   "metadata": {},
   "outputs": [],
   "source": [
    "prior$TimeSpent = interval(prior$ReceiptDateObj,prior$ReleaseDateObj)/dyears(1)\n",
    "priortime = summarise(group_by(prior,DCNumber),count=n(),time=sum(TimeSpent,na.rm=TRUE))\n",
    "\n",
    "rprior$TimeSpent = interval(rprior$ReceiptDateObj,rprior$ReleaseDateObj)/dyears(1)\n",
    "rpriortime = summarise(group_by(rprior,DCNumber),count=n(),time=sum(TimeSpent,na.rm=TRUE))\n",
    "\n",
    "head(priortime)\n",
    "head(rpriortime)\n",
    "\n",
    "bigpriortime = rbind(priortime,rpriortime)"
   ]
  },
  {
   "cell_type": "markdown",
   "metadata": {},
   "source": [
    "This produces much the same boxplot set as we had with the data from current inmates."
   ]
  },
  {
   "cell_type": "code",
   "execution_count": null,
   "metadata": {},
   "outputs": [],
   "source": [
    "boxplot(time~count,data=bigpriortime)"
   ]
  },
  {
   "cell_type": "markdown",
   "metadata": {},
   "source": [
    "Finally, a loop. We are going to create two \"for loops\" that run over year (from 2000 to 2015) and month (from 1 to 12) and look at how many people were in prison on the first of the given month of the given year. We'll do this for 1/1/2000, 2/1/2000, etc. all the way to 1/12/2015. "
   ]
  },
  {
   "cell_type": "code",
   "execution_count": null,
   "metadata": {},
   "outputs": [],
   "source": [
    "ts = NULL\n",
    "tm = NULL\n",
    "\n",
    "for(y in 2000:2015){\n",
    "    for(m in 1:12){\n",
    "        \n",
    "        # Using year, month and the first day of the month, create a date object called \"now\"\n",
    "        \n",
    "        dt = paste(m,1,y,sep=\"/\")        \n",
    "        now = mdy(dt)\n",
    "        \n",
    "        # Then count up how many people were received by the prison before \"now\" but left\n",
    "        # after \"now\", taking care that if the ReleaseDateObj is NA, it means they are still\n",
    "        # in prison\n",
    "        \n",
    "        s1 = filter(prior,(ReceiptDateObj <= now) & (is.na(ReleaseDateObj) | (ReleaseDateObj >= now)))$DCNumber\n",
    "        s2 = filter(rprior,(ReceiptDateObj <= now) & (is.na(ReleaseDateObj) | (ReleaseDateObj >= now)))$DCNumber\n",
    "        \n",
    "        # grow these two vectors by one entry each. The total number of people in prison\n",
    "        # at the time, and the string representation of the m-d-y.\n",
    "        \n",
    "        ts = c(ts,length(unique(c(s1,s2))))\n",
    "        tm = c(tm,dt)\n",
    "    }\n",
    "}\n",
    "\n",
    "# Pull ts and tm into columns of a data frame, making date a date object\n",
    "population = data.frame(date=mdy(tm),count=ts)"
   ]
  },
  {
   "cell_type": "markdown",
   "metadata": {},
   "source": [
    "And plot it out. \n",
    "\n",
    "**3. What do you think? Is this right? How might you check? Be creative!**"
   ]
  },
  {
   "cell_type": "code",
   "execution_count": null,
   "metadata": {},
   "outputs": [],
   "source": [
    "plot(count~date,data=population,type=\"l\")"
   ]
  },
  {
   "cell_type": "code",
   "execution_count": null,
   "metadata": {},
   "outputs": [],
   "source": [
    "tail(population,20)"
   ]
  },
  {
   "cell_type": "markdown",
   "metadata": {},
   "source": [
    "**Obama and clemency**\n",
    "\n",
    "In 2014 The White House announced its [Clemency Initiative](https://www.justice.gov/pardon/clemency-initiative), that could involve up to 10,000 inmates. Obama has been steadily granting commutations and pardons, and you can see \n",
    "[the totals here](https://www.justice.gov/pardon/obama-commutations). The data seem extremely organized. Everything is in a table with a certain degree of structure. \n",
    "\n",
    "**4. Tell me about the data as it exists on the Pardons and Commutations web site. What data are immediately available and what has to be \"fished\" for? Try coming up with a series of columns, fields if you will, that we could fill in for each person granted clemency.**"
   ]
  },
  {
   "cell_type": "markdown",
   "metadata": {},
   "source": [
    "Write your ideas here\n",
    "\n",
    "\n"
   ]
  },
  {
   "cell_type": "markdown",
   "metadata": {},
   "source": [
    "In many cases, you can reach outside the existing data set for more information. For example, simply asking Google about \"ZoAnne Brown Iowa May 2007\" gets you [an article from a local paper](http://globegazette.com/news/local/crime-and-courts/mason-city-woman-s-meth-sentence-commuted-advocates-celebrate/article_079a6dd2-f808-545c-a1df-0caed3b8315c.html) about the incident.\n",
    "\n",
    "**5. What other sources of data can be added to fill out the data set? Think about details that would make the story about clemency richer in some way.**"
   ]
  },
  {
   "cell_type": "markdown",
   "metadata": {},
   "source": [
    "Write your ideas here\n",
    "\n"
   ]
  },
  {
   "cell_type": "markdown",
   "metadata": {},
   "source": [
    "Next time, we are going to see how to extract data from tables like the one on the Commutations and Pardons web site. We will also see how we can search for particular patterns of text that might help us decide whether this was a drug-related offense or something else. And if it is about drugs, how much and what kind?"
   ]
  }
 ],
 "metadata": {
  "anaconda-cloud": {},
  "kernelspec": {
   "display_name": "R",
   "language": "R",
   "name": "ir"
  },
  "language_info": {
   "codemirror_mode": "r",
   "file_extension": ".r",
   "mimetype": "text/x-r-source",
   "name": "R",
   "pygments_lexer": "r",
   "version": "3.4.2"
  }
 },
 "nbformat": 4,
 "nbformat_minor": 1
}
