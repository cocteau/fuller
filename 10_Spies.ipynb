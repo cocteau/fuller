{
 "cells": [
  {
   "cell_type": "markdown",
   "metadata": {},
   "source": [
    "Analyzing spatial data\n",
    "-----------------------\n",
    "\n",
    "TosY we are going to consider an article that appeared in Buzzfeed by Peter Aldhous and Charles Seife. It is about surveillance flights piloted by the FBI and DHS. The article is called [Spies in the Skies](https://www.buzzfeed.com/peteraldhous/spies-in-the-skies). Please read the article, thinking about the ways data informed their narrative.\n",
    "\n",
    "1. Where did the data come from? If you were given this assignment, could you assemble this data set? How?\n",
    "2. What are the basic data they are working with and what kinds of analysis did they do?\n",
    "3. The data and analysis are available in CSV format and R code. Where? \n",
    "\n",
    "Try to recreate a bit of their analysis using their documentation. What other questions would you want to ask?\n",
    "\n",
    "**Preface: An unfamiliar construction**\n",
    "\n",
    "The authors make use of a construction for orchestrating computations in R that we haven't covered yet. It's called a \"pipe\". It is a common construction in many languages, and you might recognize it from the UNIX shell. There is a nice [description of pipes in R here](https://www.r-statistics.com/2014/08/simpler-r-coding-with-pipes-the-present-and-future-of-the-magrittr-package/).\n",
    "\n",
    "The symbol \"%>%\" is known as a pipe. It means taking the data that is output by one command and feeding it as input to the following command. So, if we want to filter() the crime data below to just \"MANHATTAN\" incidents and then sample_n() 25 of them, we might do the following."
   ]
  },
  {
   "cell_type": "code",
   "execution_count": null,
   "metadata": {},
   "outputs": [],
   "source": [
    "library(dplyr)\n",
    "library(ggplot2)\n",
    "library(magrittr)  # ceci n'est pas un pipe"
   ]
  },
  {
   "cell_type": "code",
   "execution_count": null,
   "metadata": {},
   "outputs": [],
   "source": [
    "crime = read.csv(\"https://data.cityofnewyork.us/api/views/5uac-w243/rows.csv\",as.is=TRUE)"
   ]
  },
  {
   "cell_type": "code",
   "execution_count": null,
   "metadata": {},
   "outputs": [],
   "source": [
    "crime %>%\n",
    "  filter(BORO_NM==\"MANHATTAN\") %>%\n",
    "  sample_n(25) "
   ]
  },
  {
   "cell_type": "markdown",
   "metadata": {},
   "source": [
    "So, to read this, you start with our crime data frame. It is taken as an input to the filter() command that looks just for \"MANHATTAN\". The output of this is then fed to the sample command. Notice that the first arugment to filter() and sample_n() and all of the \"dplyr\" functions is a data set. We drop reference to those data sets when using pipes because the data are taken from the previous command  in the \"pipeline\". \n",
    "\n",
    "The syntax is really catching on with R users. What do you think? \n",
    "\n",
    "Here we sample 10,000 points and then feed it to plot. When we don't have a \"dplyr\" function, we can use the \"data=.\" argument to indicate that the data are to come from the output of the operation upstream. Here's a plot."
   ]
  },
  {
   "cell_type": "code",
   "execution_count": null,
   "metadata": {
    "collapsed": true
   },
   "outputs": [],
   "source": [
    "crime %>%\n",
    "  filter(BORO_NM==\"MANHATTAN\") %>%\n",
    "  sample_n(10000) %>%\n",
    "  plot(Latitude~Longitude,data=.,pch=\".\")"
   ]
  },
  {
   "cell_type": "markdown",
   "metadata": {},
   "source": [
    "Also, they a different assignment operator. We have been using the equality sign to create a variable..."
   ]
  },
  {
   "cell_type": "code",
   "execution_count": null,
   "metadata": {
    "collapsed": true
   },
   "outputs": [],
   "source": [
    "x = 5"
   ]
  },
  {
   "cell_type": "markdown",
   "metadata": {},
   "source": [
    "Old school R (back when it was S) used \"<-\" instead. The motivation was twofold. First, on an old AT&T Terminal (APL keyboard as well), there was a single key that represented an arrow sign. So it was as easy to type as \"=\". Second, if there was a convenient second symbol that could represent assignment, the authors of the language thought it would be easier for a novice to differentiate that \"x <- 5\" means assign the label \"x\" to the value 5; and that sample_n(size=5) means pass the value of 5 under the name \"size\" in the function \"sample_n\". \n",
    "\n",
    "The way I've taught you, \"=\" could mean create a new variable or pass a value into a function. It was felt that that could be confusing for beginners and \"<-\" was born. What do you think? \n",
    "\n",
    "So, you will often see people writing R code with \"<-\" as the assignment operator. Except in a couple of small cases, the two approaches, \"<-\" and \"=\", are equivalent when making assignments."
   ]
  },
  {
   "cell_type": "code",
   "execution_count": 3,
   "metadata": {},
   "outputs": [],
   "source": [
    "x <- 5"
   ]
  },
  {
   "cell_type": "markdown",
   "metadata": {},
   "source": [
    "Aside from this, you should be able to read Peter's code. Read the article and try out their work!\n",
    "\n",
    "Having found patterns of navigation, Peter decided to train a learning algorithm to find other planes that exhibited these patterns. Have a look at his next article, [BuzzFeed News Trained A Computer To Search For Hidden Spy Planes. This Is What We Found.](https://www.buzzfeed.com/peteraldhous/hidden-spy-planes?utm_term=.rg5odvnlp#.bfqYmZl12) We will spend the next few lectures talking about models like the ones he used in this article.\n",
    "\n",
    "His data and code are available on github for this second article as well. Have a look and see what he did."
   ]
  }
 ],
 "metadata": {
  "anaconda-cloud": {},
  "kernelspec": {
   "display_name": "R",
   "language": "R",
   "name": "ir"
  },
  "language_info": {
   "codemirror_mode": "r",
   "file_extension": ".r",
   "mimetype": "text/x-r-source",
   "name": "R",
   "pygments_lexer": "r",
   "version": "3.4.2"
  }
 },
 "nbformat": 4,
 "nbformat_minor": 1
}
